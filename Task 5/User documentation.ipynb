{
 "cells": [
  {
   "cell_type": "markdown",
   "id": "5ec4a9ba",
   "metadata": {},
   "source": [
    "# CHARTING THE PATH TO SUSTAINABILITY: Integrating Land Sector Data with SDGs"
   ]
  },
  {
   "cell_type": "markdown",
   "id": "a89e4d09",
   "metadata": {},
   "source": [
    "### Task 5- USER DOCUMENTATION"
   ]
  },
  {
   "cell_type": "markdown",
   "id": "88c73575",
   "metadata": {},
   "source": [
    "Welcome to the Moja-global project, where your expertise will be put to great use in performing geospatial analysis for efficient land sector dataset. This is an all-encompassing manual that is been written to aid participants in the break down of integrated data and making optimal use of visualization tools while working on the land sector dataset and exploratory data analysis (EDA). This guide has been organized into a series of tasks, each complete with precise steps and prerequisites to ensure your success while working on this dataset"
   ]
  },
  {
   "cell_type": "markdown",
   "id": "343f5e2c",
   "metadata": {},
   "source": [
    "###  Project Outline\n",
    "\n",
    "Task 0 - Git and Github\n",
    "\n",
    "Task 1 - Exploratory Data Analysis (EDA)\n",
    "\n",
    "Task 2 - Attribute-SDG Mapping Prototype\n",
    "\n",
    "Task 3 - Geospatial Analysis\n",
    "\n",
    "Task 4 - Visualization Prototype\n",
    "\n",
    "Task 5 - User Documentation\n",
    "\n",
    "Signing off and creating a Pull request(PR)"
   ]
  },
  {
   "cell_type": "markdown",
   "id": "cb221b7e",
   "metadata": {},
   "source": [
    "### Task 0 - Git and Github\n",
    "\n",
    "**Aim of Task:** The aim of this task is to acquaint participants with Git and GitHub. GitHub holds significant importance in open-source projects due to its accessibility and collaborative capabilities which makes it essential for effective teamwork.\n",
    "\n",
    "#### Step by step guide\n",
    "\n",
    "step 1: Download git on your system.\n",
    "\n",
    "step 2: Create a github account for those that doesn't have one yet.\n",
    "\n",
    "step 3: Create a new repository and give it the name 'Outreachy_username_2022,' where 'username' corresponds to your Slack handle in the Moja Global Slack community, and '2022' signifies the present project year.\n",
    "\n",
    "step 4: Clone the new repository you created to your local computer using git. To streamline your workflow, consider using a code editor like VS Code."
   ]
  },
  {
   "cell_type": "markdown",
   "id": "8e175bc4",
   "metadata": {},
   "source": [
    "### Task 1 -Exploratory Data Analysis\n",
    "\n",
    "**Aim of Task**:The aims of this task is to enhance data analysis skills, promote collaboration, and contribute valuable insights to the land dataset project.\n",
    "\n",
    "#### Step by step guide\n",
    "\n",
    "Step 1: Choose a geographic location (country, region, province, state, or city, preferably your local area) from the dataset.\n",
    "\n",
    "Step 2: Explore the data library to locate all data types relevant to the selected geographical area.\n",
    "\n",
    "Step 3: Inside the repository you created, create a Jupyter notebook and perform an analysis on the pertinent data from the data library. Utilize graphs, plots, and dataframes to visually represent and interpret the data.\n",
    "\n",
    "Step 4: Signoff your commits, push your work to the remote repository, and initiate a pull request. Document your contribution to the project and then share the repository link in the #outreachy channel of the Slack community."
   ]
  },
  {
   "cell_type": "markdown",
   "id": "f29dc224",
   "metadata": {},
   "source": [
    "### Task 2 - Attribute SDG mapping prototype\n",
    "\n",
    "** Aim of Task**: The aim to create a prototype that effectively links relevant attributes within a dataset to the corresponding Sustainable Development Goals (SDGs) established in the research.\n",
    "    \n",
    "#### Step by step guide\n",
    "\n",
    "step 1: Fork and clone the Land sector repository to your local computer.\n",
    "\n",
    "step 2: Navigatethrough the data library and choose a dataset according to your preference. Then, link the dataset with its corresponding metadata file in the cloned repository\n",
    "\n",
    "step 3: Choose two appropriate Sustainable Development Goals (SDGs) as determined by the research. Create a prototype that demonstrates the linkage of specific dataset attributes to these chosen SDGs.\n",
    "\n",
    "Step 4: Signoff your commits, push your work to the remote repository, and initiate a pull request. Document your contribution to the project and then share the repository link in the #outreachy channel of the Slack community."
   ]
  },
  {
   "cell_type": "markdown",
   "id": "ee93869d",
   "metadata": {},
   "source": [
    "Task 3 - Geospatial Analysis\n",
    "\n",
    "**Aim of Task** : The primary aim of this task is to conduct an extensive geospatial analysis aimed at revealing noteworthy spatial data patterns and trends.\n",
    "\n",
    "#### Step by step guide\n",
    "\n",
    "step 1:Perform geospatial analysis to identify patterns or trends if the dataset contains spatial information.\n",
    "\n",
    "steps 2: Use libraries such as GeoPandas and other geospatial libraries in Python to perform visualizations (maps) and then write a brief report on any spatial patterns or correlations discovered.\n",
    "\n",
    "step 3: Signoff your commits, push your work to the remote repository, and initiate a pull request. Document your contribution to the project and then share the repository link in the #outreachy channel of the Slack community."
   ]
  },
  {
   "cell_type": "markdown",
   "id": "c201d9b2",
   "metadata": {},
   "source": [
    "### Task 4 - Visualization Prototype\n",
    "\n",
    "**Aim of Task**: This task focuses on developing a prototype for data visualization, to represent the relationships between land attributes and SDGs\n",
    "\n",
    "#### step by step guide\n",
    "\n",
    "step 1: Develop a prototype for the data visualization component which will represent the relatinship between the attribute and the SDGs relevant to it.\n",
    "\n",
    "step 2: Create visualizations that represent the mapped relationships between land attributes and SDGs make the python code used for prototype visualization available.\n",
    "\n",
    "step 3: Signoff your commits, push your work to the remote repository, and initiate a pull request. Document your contribution to the project and then share the repository link in the #outreachy channel of the Slack community.\n"
   ]
  },
  {
   "cell_type": "markdown",
   "id": "64355a6f",
   "metadata": {},
   "source": [
    "### Task 5 - User Documentation\n",
    "\n",
    "**Aim of Task**: The aim of this task is to draft documentation that serves as guide for user \n",
    "\n",
    "### step by step guide:\n",
    "step 1: Commence drafting of user documentation, with an emphasis on the fundamental aspects of understanding integrated data and utilizing the visualization tool.\n",
    "\n",
    "step 2: Signoff your commits, push your work to the remote repository, and initiate a pull request. Document your contribution to the project and then share the repository link in the #outreachy channel of the Slack community.\n",
    " "
   ]
  },
  {
   "cell_type": "markdown",
   "id": "4b5c89e9",
   "metadata": {},
   "source": [
    "###  Signing off and creating a Pull request\n",
    "\n",
    "**What is a pull request?**: A pull request (PR) is a collaborative feature used in version control systems like Git and platforms like GitHub. It allows contributors to propose changes to a repository's codebase and then request that these changes be reviewed and merged into the main branch. Pull requests are a fundamental part of the open-source development process, enabling collaboration and code quality control.\n",
    "\n",
    "**Step by step guide**:\n",
    "After you have forked and cloned the repository and created a jupyter note in the repository on local machine\n",
    "\n",
    "Step 1: Commit Your Changes using the 'git add .'\n",
    "\n",
    "Step 2: Sign Off on Commits using 'git commmit -s -m \"the message for the task\"'\n",
    "\n",
    "step 3 : Push to repository using the 'git push origin master'\n",
    "\n",
    "NB: if you created a branch then you will push to the branch you created on your remote github \n",
    "\n",
    "Step 4: Visit your forked repository on GitHub and navigate to the branch you just pushed. You should see a \"New Pull Request\" button. Click on it.\n",
    "\n",
    "Step 5: Review and Complete the Pull Request, Describe the changes you've made.\n",
    "Review the changes and ensure everything looks good and then click on the \"Create pull request\" button."
   ]
  }
 ],
 "metadata": {
  "kernelspec": {
   "display_name": "Python 3 (ipykernel)",
   "language": "python",
   "name": "python3"
  },
  "language_info": {
   "codemirror_mode": {
    "name": "ipython",
    "version": 3
   },
   "file_extension": ".py",
   "mimetype": "text/x-python",
   "name": "python",
   "nbconvert_exporter": "python",
   "pygments_lexer": "ipython3",
   "version": "3.11.5"
  }
 },
 "nbformat": 4,
 "nbformat_minor": 5
}
