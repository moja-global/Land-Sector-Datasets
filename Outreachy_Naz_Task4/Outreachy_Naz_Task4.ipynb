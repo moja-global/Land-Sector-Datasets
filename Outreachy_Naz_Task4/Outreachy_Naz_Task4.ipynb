{
 "cells": [
  {
   "cell_type": "markdown",
   "id": "affc06c5-2ca6-4539-9bf3-1760f73ad861",
   "metadata": {},
   "source": [
    "## Visualisation Prototype"
   ]
  },
  {
   "cell_type": "code",
   "execution_count": null,
   "id": "149e3ea2-0605-4569-a831-6b4c9ce206c6",
   "metadata": {},
   "outputs": [],
   "source": [
    "### Introduction\n"
   ]
  },
  {
   "cell_type": "code",
   "execution_count": 2,
   "id": "6b9b3014-d560-41c2-8f34-6f606951b175",
   "metadata": {},
   "outputs": [],
   "source": [
    "# Import the Libraries used\n",
    "\n",
    "import geopandas as gpd\n",
    "import matplotlib.pyplot as plt\n",
    "import ipywidgets as widgets\n",
    "from IPython.display import display, clear_output"
   ]
  },
  {
   "cell_type": "code",
   "execution_count": null,
   "id": "52f17974-a9ce-404d-843e-07a102c8393b",
   "metadata": {},
   "outputs": [],
   "source": []
  }
 ],
 "metadata": {
  "kernelspec": {
   "display_name": "Python 3 (ipykernel)",
   "language": "python",
   "name": "python3"
  },
  "language_info": {
   "codemirror_mode": {
    "name": "ipython",
    "version": 3
   },
   "file_extension": ".py",
   "mimetype": "text/x-python",
   "name": "python",
   "nbconvert_exporter": "python",
   "pygments_lexer": "ipython3",
   "version": "3.8.10"
  }
 },
 "nbformat": 4,
 "nbformat_minor": 5
}
