{
 "cells": [
  {
   "cell_type": "markdown",
   "metadata": {},
   "source": [
    "## Title: Global Roads Open Access Data Set (gROADS), v1 (1980 – 2010)\n",
    "\n",
    "### Description\n",
    "The Global Roads Open Access Data Set, Version 1 (gROADSv1) was developed under the auspices of the CODATA Global Roads Data Development Task Group. The data set combines the best available roads data by country into a global roads coverage, using the UN Spatial Data Infrastructure Transport (UNSDI-T) version 2 as a common data model. All country road networks have been joined topologically at the borders, and many countries have been edited for internal topology. Source data for each country are provided in the documentation, and users are encouraged to refer to the readme file for use constraints that apply to a small number of countries. Because the data are compiled from multiple sources, the date range for road network representations ranges from the 1980s to 2010 depending on the country (most countries have no confirmed date), and spatial accuracy varies. The baseline global data set was compiled by the Information Technology Outreach Services (ITOS) of the University of Georgia. Updated data for 27 countries and 6 smaller geographic entities were assembled by Columbia University's Center for International Earth Science Information Network (CIESIN), with a focus largely on developing countries with the poorest data coverage.\n",
    "\n",
    "### FLINT\n",
    "This dataset has been pre-processed/checked and is suitable for use in FLINT. Please adhere to individual dataset licence conditions and citations. Processed data can be accessed here: https://datasets.mojaglobal.workers.dev/\n",
    "\n",
    "### Format\n",
    "<b>Extent: </b>Global coverage<br>\n",
    "<b>Format</b>: vector polyline geojson .json<br>\n",
    "<b>Cordinate system:</b> EPSG:4326 (WGS84)<br>\n",
    "<b> Year:</b> 1980-2010 <br>\n",
    "<b>Size:</b> 1GB\n",
    "\n",
    "### Original source\n",
    "Original Source: Downloaded from: https://sedac.ciesin.columbia.edu/data/set/groads-global-roads-open-access-v1/docs <br>\n",
    "Vector - polyline (Feature Class, ESRI Geodatabase)\n",
    "\n",
    "### Licence\n",
    "Users may use and redistribute these data without explicit written permission from CIESIN or Information Technology Outreach Services (ITOS)/University of Georgia, with the exception of roads data associated with countries that are listed in the data documentation as requiring additional credits or holding special restrictions. Users are advised to consult the data documentation for further information and to obtain necessary permissions or adhere to relevant restrictions that apply to each of those data sets.\n",
    "\n",
    "### Citation\n",
    "Center for International Earth Science Information Network - CIESIN - Columbia University, and Information Technology Outreach Services - ITOS - University of Georgia (2013). Global Roads Open Access Data Set, Version 1 (gROADSv1). Accessed 1st December 2020 from https://doi.org/10.7927/H4VD6WCT\n",
    "\n",
    "### Metadata\n",
    "\n",
    "\n",
    "### Notes\n",
    "Known issues: Overlapping road segments, potentially fixed by dissolving some attributes such as ROADID (both json types are provided in the library). Please note, this layer will take a long time to draw, with over 1.6 million segments.\n",
    "\n",
    "### Processing\n",
    "Transform coordinate system to EPSG:4326 (WGS84) and raster to geotiff with cell alignment of 0.01degree ~1km."
   ]
  },
  {
   "cell_type": "code",
   "execution_count": null,
   "metadata": {},
   "outputs": [],
   "source": [
    " #Code to transform coodinate system \n",
    "    gdalwarp -t_srs EPSG:4326 -tr 0.01 0.01 -r near -te -180.0 -90.0 180.0 90.0 -te_srs EPSG:4326 -of GTiff C:/GlobalScreeningHabiat/01_Data/crhab_lpu/hdr.adf C:/data_process/tiff/CriticalHabitatGlobalScreening.tif"
   ]
  },
  {
   "cell_type": "code",
   "execution_count": null,
   "metadata": {},
   "outputs": [],
   "source": []
  }
 ],
 "metadata": {
  "kernelspec": {
   "display_name": "Python 3",
   "language": "python",
   "name": "python3"
  },
  "language_info": {
   "codemirror_mode": {
    "name": "ipython",
    "version": 3
   },
   "file_extension": ".py",
   "mimetype": "text/x-python",
   "name": "python",
   "nbconvert_exporter": "python",
   "pygments_lexer": "ipython3",
   "version": "3.8.5"
  }
 },
 "nbformat": 4,
 "nbformat_minor": 4
}
