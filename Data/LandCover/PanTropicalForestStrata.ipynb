{
 "cells": [
  {
   "cell_type": "markdown",
   "metadata": {},
   "source": [
    "## Title: Pan Tropical Forest Strata\n",
    "\n",
    "### Description\n",
    "The purpose for stratifying forest cover was to delineate regions (strata) associated with different carbon stock reference values in order to estimate aboveground carbon loss from tropical forest disturbance using sample-based forest loss area estimate based on forest cover loss map by Hansen et al. (2013). However, consistently characterized pan-tropical forest type maps are not available at the 30-m spatial resolution corresponding to the forest loss data. Characterizing forest cover based on complex multi-parameter definitions (e.g. \"primary forests\", \"secondary forests\", \"woodlands\") as we have performed at a national scale (Potapov et al 2012) is not easily achieved at a biome scale. Instead, we defined tropical forest strata using remotely sensed-derived structural characteristics of tree canopy (year 2000 percent tree canopy cover (Hansen et al 2013)), tree height (current study) and forest intactness (Potapov et al 2008). Stratification thresholds were developed to minimize within-strata AGC variance using a statistical regression tree approach with point-based GLAS carbon estimates (Baccini et al 2012) for the period 2003 - 2008 as the dependent variable.<br>\n",
    "\n",
    "Three pantropical regions - South America, Southeast Asia and central Africa.\n",
    "\n",
    "### FLINT\n",
    "This dataset has been checked/pre-processed and is suitable for use in FLINT. Please adhere to individual dataset licence conditions and citations. Processed data can be accessed here: [Land Sector Datasets](https://datasets.mojaglobal.workers.dev/) https://datasets.mojaglobal.workers.dev/<br>\n",
    "\n",
    "### Format\n",
    "<b>Extent: </b>Three pantropical regions - South America, Southeast Asia and central Africa (-180, -60, 180, 40)  <br>\n",
    "<b>Resolution:</b> Raster 0.00025-degree<br>\n",
    "<b>File type:</b> geotiff (.tif)<br>\n",
    "<b>Cordinate system:</b> EPSG:4326 (WGS84)<br>\n",
    "<b>Temporal Resolution: </b>2003 - 2008<br>\n",
    "<b>Size:</b>6 GB+\n",
    "    \n",
    "### Original source\n",
    "Original data sourced from Global Land Analysis & Discovery - Pan Tropical Forest Strata: https://glad.umd.edu/dataset/pan-tropical-forest-strata Access 08/01/2020.<br>\n",
    "Format: geoTIFF, three regions Africa, SE Asia and Sth America. Pixel size: ~0.000278, Cordinate system: EPSG:4326 (WGS84)<br>\n",
    "\n",
    "### Licence\n",
    "Creative Commons Attributions 3.0 CC-BY-3.0 as long as is properly cited where used. See [Additional Permissions](https://github.com/moja-global/Land_Sector_Datasets/tree/master/Additional-Permissions) for permission to use this data in FLINT. \n",
    "\n",
    "### Citation\n",
    "Please, use the following credit when the provided data are cited: Tyukavina, A., Baccini, A., Hansen, M. C., Potapov, P. V., Stehman, S. V., Houghton, R. A., Krylov, A.M., Turubanova S., Goetz, S. J. (2015) Aboveground carbon loss in natural and managed tropical forests from 2000 to 2012. Environmental Research Letters, 10(7), 074002.\n",
    "\n",
    "### Metadata\n",
    "Numbers in the legend refer to forest strata: 1 - low cover; 2 - medium cover short; 3 - medium cover tall; 4 - dense cover short; 5 - dense cover short intact; 6 - dense cover tall; 7 - dense cover tall intact; 8: non-forest lands (treecover <25%); 9: water; 0: no data.\n",
    "\n",
    "### Notes\n",
    "Cells were resampled to 0.00025 for use in FLINT padded to nearest degree. Additional resampling recommended from original files to reduce data loss - code provided below to batch process. Extent only cover the pan tropical zone.\n",
    "\n",
    "### Processing\n",
    "Resample in gdal to 0.00025 keeping original regional extents. A merge might be possible but will produce large areas of NoData, and BIGTIFF will need to be enabled."
   ]
  },
  {
   "cell_type": "code",
   "execution_count": null,
   "metadata": {},
   "outputs": [],
   "source": [
    "#Process (resample) resolution in gdal (osgeo4W shell)\n",
    "for /R C:\\inputfolder\\ %f IN (*.tif) do gdalwarp.exe -co COMPRESS=DEFLATE -co PREDICTOR=2 -co ZLEVEL=9 -s_srs EPSG:4326 -tr 0.00025 0.00025 -tap -r near -of GTiff -t_srs EPSG:4326 -multi -overwrite -co BIGTIFF=YES %f C:\\outputgfsad\\%~nf.tif"
   ]
  }
 ],
 "metadata": {
  "kernelspec": {
   "display_name": "Python 3",
   "language": "python",
   "name": "python3"
  },
  "language_info": {
   "codemirror_mode": {
    "name": "ipython",
    "version": 3
   },
   "file_extension": ".py",
   "mimetype": "text/x-python",
   "name": "python",
   "nbconvert_exporter": "python",
   "pygments_lexer": "ipython3",
   "version": "3.8.5"
  }
 },
 "nbformat": 4,
 "nbformat_minor": 4
}
