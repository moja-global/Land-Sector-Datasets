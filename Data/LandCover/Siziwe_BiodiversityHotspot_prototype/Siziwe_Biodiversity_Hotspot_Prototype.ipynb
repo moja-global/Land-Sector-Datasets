{
 "cells": [
  {
   "cell_type": "markdown",
   "id": "5058238b",
   "metadata": {},
   "source": [
    "<p style=\"font-family: Candara; line-height: 2; font-size: 31px; font-weight: bold; letter-spacing: 1px; text-align: center; color: #01796F\">Prototype: Mapping Biodiversity Hotspots in South Africa to Sustainable Development Goals (SDGs)</p>\n",
    "\n",
    "<hr style=\"height: 0.5px; border: 0; background-color: #342D7E\">"
   ]
  },
  {
   "cell_type": "markdown",
   "id": "dac0e48c",
   "metadata": {},
   "source": [
    "<p style=\"font-family: Candara; font-size: 25px; font-style: normal; font-weight: bold; letter-spacing: 3px; text-align: left; color: #01796F; line-height:1.0\">TABLE OF CONTENT</p>\n",
    "\n",
    "<p style=\"font-family: Candara; font-size: 15px; font-style: normal; font-weight: bold; letter-spacing: 2px; text-align: left; color:  #342D7E; line-height:1\"><a href=\"#part1\" style=\"color:#01796F\">1. INTRODUCTION</a></p>\n",
    "\n",
    "<p style=\"font-family: Candara; font-size: 15px; font-style: normal; font-weight: bold; letter-spacing: 2px; text-align: left; color: #01796F; line-height:1\"><a href=\"#part2\" style=\"color:#01796F\">2. LIBRARIES</a></p>\n",
    "\n",
    "<p style=\"font-family: Candara; font-size: 15px; font-style: normal; font-weight: bold; letter-spacing: 2px; text-align: left; color: #01796F; line-height:1\"><a href=\"#part3\" style=\"color:#01796F\">3. IMPORT DATA </a></p>\n",
    "\n",
    "<p style=\"font-family: Candara; font-size: 15px; font-style: normal; font-weight: bold; letter-spacing: 2px; text-align: left; color: #01796F; line-height:1\"><a href=\"#part4\" style=\"color:#01796F\">4. MAPPING TO SDGs </a></p>\n",
    "\n",
    "<p style=\"font-family: Candara; font-size: 15px; font-style: normal; font-weight: bold; letter-spacing: 2px; text-align: left; color: #01796F; line-height:1\"><a href=\"#part5\" style=\"color:#01796F\">5. EXPLORATORY DATA ANALYSIS</a></p>\n",
    "\n",
    "<p style=\"font-family: Candara; font-size: 15px; font-style: normal; font-weight: bold; letter-spacing: 2px; text-align: left; color: #01796F; line-height:1\"><a href=\"#part6\" style=\"color:#01796F\">6. SDG ALIGNMENT </a></p>\n",
    "\n",
    "<p style=\"font-family: Candara; font-size: 15px; font-style: normal; font-weight: bold; letter-spacing: 2px; text-align: left; color: #01796F; line-height:1\"><a href=\"#part7\" style=\"color:#01796F\">7. CONSERVATION IMPACT</a></p>\n",
    "\n",
    "<p style=\"font-family: Candara; font-size: 15px; font-style: normal; font-weight: bold; letter-spacing: 2px; text-align: left; color: #01796F; line-height:1\"><a href=\"#part9\" style=\"color:#01796F\">8. CONCLUSION</a></p>\n",
    "\n",
    "<p style=\"font-family: Candara; font-size: 15px; font-style: normal; font-weight: bold; letter-spacing: 2px; text-align: left; color: #01796F; line-height:1\"><a href=\"#part10\" style=\"color:#01796F\">9. REFERENCES</a></p>"
   ]
  },
  {
   "cell_type": "markdown",
   "id": "9a1bf9ba",
   "metadata": {},
   "source": [
    "<a class=\"anchor\" id=\"part1\"></a>\n",
    "# <span style=\"font-family: candara; font-size: 25px; font-style: normal; font-weight: bold; letter-spacing: 3px; text-align: center; color:  #01796F; line-height:1.0\">1. Introduction to South Africa's Sustainable Development Goals (SDGs) </span>\n",
    "\n",
    "<a class=\"anchor\" id=\"part1\"></a>\n",
    "\n",
    "<hr style=\"height: 0.5px; border: 0; background-color: #342D7E\">"
   ]
  },
  {
   "cell_type": "markdown",
   "id": "9d5a8d74",
   "metadata": {},
   "source": [
    "The prototype aims to demonstrate how a dataset of Biodiversity Hotspots in South Africa can be used to support specific Sustainable Development Goals (SDGs). This project illustrates the alignment between these hotspots and key sustainability objectives, emphasizing their crucial role in contributing to environmental preservation, biodiversity conservation, and overall sustainability efforts."
   ]
  },
  {
   "cell_type": "markdown",
   "id": "a2f1b6df",
   "metadata": {},
   "source": [
    "<a class=\"anchor\" id=\"part2\"></a>\n",
    "# <span style=\"font-family: candara; font-size: 25px; font-style: normal; font-weight: bold; letter-spacing: 3px; text-align: center; color:  #01796F; line-height:1.0\">2. Import necessary libraries </span>\n",
    "\n",
    "\n",
    "<hr style=\"height: 0.5px; border: 0; background-color: #342D7E\">"
   ]
  },
  {
   "cell_type": "code",
   "execution_count": 1,
   "id": "a74c340a",
   "metadata": {},
   "outputs": [],
   "source": [
    "# Import necessary libraries\n",
    "import geopandas as gpd\n",
    "import io, requests , fiona\n",
    "\n",
    "import pandas as pd\n",
    "import matplotlib.pyplot as plt\n",
    "import seaborn as sns\n",
    "\n",
    "import warnings\n",
    "warnings.filterwarnings('ignore')\n"
   ]
  },
  {
   "cell_type": "markdown",
   "id": "64838662",
   "metadata": {},
   "source": [
    "<a class=\"anchor\" id=\"part3\"></a>\n",
    "# <span style=\"font-family: candara; font-size: 25px; font-style: normal; font-weight: bold; letter-spacing: 3px; text-align: center; color:  #01796F; line-height:1.0\">3. Import Data </span>\n",
    "\n",
    "<hr style=\"height: 0.5px; border: 0; background-color: #342D7E\"> "
   ]
  },
  {
   "cell_type": "markdown",
   "id": "4bb399b6",
   "metadata": {},
   "source": [
    "We start by selecting a dataset containing information about biodiversity hotspots in South Africa. The dataset includes attributes such as hotspot names, types, and geometries."
   ]
  },
  {
   "cell_type": "code",
   "execution_count": 2,
   "id": "0f7fab3b",
   "metadata": {},
   "outputs": [],
   "source": [
    "\"\"\"\n",
    "This code reads a JSON or GeoJSON file from a link and returns a DataFrame \n",
    "(assuming you have pandas, geopandas, fiona and requests installed)\n",
    "\n",
    "\"\"\"\n",
    "\n",
    "def get_df(link):\n",
    "    \"\"\"\n",
    "    Inputs a link to a JSON/GeoJSON file and returns a DataFrame\n",
    "    \"\"\"\n",
    "    try:\n",
    "        # Try reading the file directly\n",
    "        return gpd.read_file(link)\n",
    "    except Exception as e:\n",
    "        print(f\"Error: {e}\")\n",
    "        print(\"Retrieving the DataFrame from the URL.\")\n",
    "\n",
    "        try:\n",
    "            # Retrieve data from the URL\n",
    "            req = requests.get(link).content\n",
    "            # Read the content as a GeoDataFrame\n",
    "            return gpd.read_file(io.StringIO(req.decode('utf-8')))\n",
    "        except Exception as e:\n",
    "            print(f\"Failed to retrieve data from the URL: {e}\")\n",
    "            return pd.DataFrame()"
   ]
  },
  {
   "cell_type": "code",
   "execution_count": 3,
   "id": "dfc42e2b",
   "metadata": {},
   "outputs": [],
   "source": [
    "df_bio = get_df(r\"C:\\O\\Outreachy_Siziwe_2023\\CI_BiodiversityHotspots.geojson\")"
   ]
  },
  {
   "cell_type": "code",
   "execution_count": 4,
   "id": "0247200b",
   "metadata": {
    "scrolled": false
   },
   "outputs": [
    {
     "data": {
      "text/html": [
       "<div>\n",
       "<style scoped>\n",
       "    .dataframe tbody tr th:only-of-type {\n",
       "        vertical-align: middle;\n",
       "    }\n",
       "\n",
       "    .dataframe tbody tr th {\n",
       "        vertical-align: top;\n",
       "    }\n",
       "\n",
       "    .dataframe thead th {\n",
       "        text-align: right;\n",
       "    }\n",
       "</style>\n",
       "<table border=\"1\" class=\"dataframe\">\n",
       "  <thead>\n",
       "    <tr style=\"text-align: right;\">\n",
       "      <th></th>\n",
       "      <th>OBJECTID</th>\n",
       "      <th>NAME</th>\n",
       "      <th>Type</th>\n",
       "      <th>Shape_Length</th>\n",
       "      <th>Shape_Area</th>\n",
       "      <th>geometry</th>\n",
       "    </tr>\n",
       "  </thead>\n",
       "  <tbody>\n",
       "    <tr>\n",
       "      <th>0</th>\n",
       "      <td>1</td>\n",
       "      <td>Chilean Winter Rainfall and Valdivian Forests</td>\n",
       "      <td>hotspot area</td>\n",
       "      <td>200.706891</td>\n",
       "      <td>40.754665</td>\n",
       "      <td>MULTIPOLYGON (((-74.59792 -46.92502, -74.61111...</td>\n",
       "    </tr>\n",
       "  </tbody>\n",
       "</table>\n",
       "</div>"
      ],
      "text/plain": [
       "   OBJECTID                                           NAME          Type  \\\n",
       "0         1  Chilean Winter Rainfall and Valdivian Forests  hotspot area   \n",
       "\n",
       "   Shape_Length  Shape_Area                                           geometry  \n",
       "0    200.706891   40.754665  MULTIPOLYGON (((-74.59792 -46.92502, -74.61111...  "
      ]
     },
     "execution_count": 4,
     "metadata": {},
     "output_type": "execute_result"
    }
   ],
   "source": [
    "# display the dataset\n",
    "df_bio.head(1)"
   ]
  },
  {
   "cell_type": "code",
   "execution_count": 5,
   "id": "2d2edac9",
   "metadata": {},
   "outputs": [
    {
     "data": {
      "text/plain": [
       "(53, 6)"
      ]
     },
     "execution_count": 5,
     "metadata": {},
     "output_type": "execute_result"
    }
   ],
   "source": [
    "df_bio.shape"
   ]
  },
  {
   "cell_type": "markdown",
   "id": "d8eab7ce",
   "metadata": {},
   "source": [
    "<a class=\"anchor\" id=\"part4\"></a>\n",
    "# <span style=\"font-family: candara; font-size: 25px; font-style: normal; font-weight: bold; letter-spacing: 3px; text-align: center; color:  #01796F; line-height:1.0\">4.MAPPING TO SDGs </span>\n",
    "\n",
    "<hr style=\"height: 0.5px; border: 0; background-color: #342D7E\"> "
   ]
  },
  {
   "cell_type": "markdown",
   "id": "ac474f2c",
   "metadata": {},
   "source": [
    "In this part of the prototype, we are focused on the critical step of connecting the specific attributes within the dataset of Biodiversity Hotspots in South Africa to corresponding Sustainable Development Goals (SDGs). This process involves identifying and selecting attributes that are meaningful and relevant in the context of sustainability and environmental conservation.\n",
    "\n",
    "Attributes such as \"hotspot types\" help us categorize these hotspots based on their unique characteristics.\n",
    "By mapping these attributes to specific Sustainable Development Goals, we can draw connections between the characteristics of these hotspots and the broader sustainability objectives outlined by the United Nations. "
   ]
  },
  {
   "cell_type": "markdown",
   "id": "ac6511a4",
   "metadata": {},
   "source": [
    "<a class=\"anchor\" id=\"part5\"></a>\n",
    "# <span style=\"font-family: candara; font-size: 25px; font-style: normal; font-weight: bold; letter-spacing: 3px; text-align: center; color:  #01796F; line-height:1.0\">5.EXPLORATORY DATA ANALYSIS </span>\n",
    "\n",
    "<hr style=\"height: 0.5px; border: 0; background-color: #342D7E\"> "
   ]
  },
  {
   "cell_type": "code",
   "execution_count": null,
   "id": "c10426f3",
   "metadata": {},
   "outputs": [],
   "source": [
    "#Import "
   ]
  },
  {
   "cell_type": "code",
   "execution_count": 7,
   "id": "978cadd0",
   "metadata": {},
   "outputs": [
    {
     "data": {
      "text/html": [
       "<div>\n",
       "<style scoped>\n",
       "    .dataframe tbody tr th:only-of-type {\n",
       "        vertical-align: middle;\n",
       "    }\n",
       "\n",
       "    .dataframe tbody tr th {\n",
       "        vertical-align: top;\n",
       "    }\n",
       "\n",
       "    .dataframe thead th {\n",
       "        text-align: right;\n",
       "    }\n",
       "</style>\n",
       "<table border=\"1\" class=\"dataframe\">\n",
       "  <thead>\n",
       "    <tr style=\"text-align: right;\">\n",
       "      <th></th>\n",
       "      <th>OBJECTID</th>\n",
       "      <th>NAME</th>\n",
       "      <th>Type</th>\n",
       "      <th>Shape_Length</th>\n",
       "      <th>Shape_Area</th>\n",
       "      <th>geometry</th>\n",
       "    </tr>\n",
       "  </thead>\n",
       "  <tbody>\n",
       "    <tr>\n",
       "      <th>0</th>\n",
       "      <td>3</td>\n",
       "      <td>Cape Floristic Region</td>\n",
       "      <td>hotspot area</td>\n",
       "      <td>93.790123</td>\n",
       "      <td>7.610383</td>\n",
       "      <td>MULTIPOLYGON (((23.08365 -34.08177, 23.07374 -...</td>\n",
       "    </tr>\n",
       "    <tr>\n",
       "      <th>1</th>\n",
       "      <td>8</td>\n",
       "      <td>Succulent Karoo</td>\n",
       "      <td>hotspot area</td>\n",
       "      <td>79.117896</td>\n",
       "      <td>9.648439</td>\n",
       "      <td>MULTIPOLYGON (((19.94741 -33.85329, 19.95347 -...</td>\n",
       "    </tr>\n",
       "    <tr>\n",
       "      <th>2</th>\n",
       "      <td>4</td>\n",
       "      <td>Maputaland-Pondoland-Albany</td>\n",
       "      <td>hotspot area</td>\n",
       "      <td>49.631419</td>\n",
       "      <td>25.366584</td>\n",
       "      <td>MULTIPOLYGON (((24.38414 -34.10260, 24.37800 -...</td>\n",
       "    </tr>\n",
       "  </tbody>\n",
       "</table>\n",
       "</div>"
      ],
      "text/plain": [
       "   OBJECTID                         NAME          Type  Shape_Length  \\\n",
       "0         3        Cape Floristic Region  hotspot area     93.790123   \n",
       "1         8              Succulent Karoo  hotspot area     79.117896   \n",
       "2         4  Maputaland-Pondoland-Albany  hotspot area     49.631419   \n",
       "\n",
       "   Shape_Area                                           geometry  \n",
       "0    7.610383  MULTIPOLYGON (((23.08365 -34.08177, 23.07374 -...  \n",
       "1    9.648439  MULTIPOLYGON (((19.94741 -33.85329, 19.95347 -...  \n",
       "2   25.366584  MULTIPOLYGON (((24.38414 -34.10260, 24.37800 -...  "
      ]
     },
     "execution_count": 7,
     "metadata": {},
     "output_type": "execute_result"
    }
   ],
   "source": [
    "#import the south african boundary data first\n",
    "df_sa_bound = get_df(r\"C:\\O\\Outreachy_Siziwe_2023\\ZAF_AL2_South_Africa.json\")\n",
    "# Extract South Africa's biodiversity hotspots\n",
    "df_sa_bio = df_bio.clip(df_sa_bound)\n",
    "df_sa_bio = df_sa_bio.reset_index(drop=True)\n",
    "df_sa_bio.head()"
   ]
  },
  {
   "cell_type": "code",
   "execution_count": 8,
   "id": "665c88df",
   "metadata": {},
   "outputs": [
    {
     "data": {
      "image/png": "[encoded data removed]",
      "text/plain": [
       "<Figure size 640x480 with 1 Axes>"
      ]
     },
     "metadata": {},
     "output_type": "display_data"
    }
   ],
   "source": [
    "# Create a base map of South Africa\n",
    "world = gpd.read_file(gpd.datasets.get_path('naturalearth_lowres'))\n",
    "south_africa = world[world['name'] == 'South Africa']\n",
    "ax = south_africa.plot(color='white', edgecolor='black')\n",
    "\n",
    "# Plot the biodiversity hotspots\n",
    "df_sa_bio.plot(ax=ax, column='NAME', legend=True)\n",
    "\n",
    "# Set plot title and labels\n",
    "plt.title(\"Biodiversity Hotspots in South Africa\")\n",
    "plt.xlabel(\"Longitude\")\n",
    "plt.ylabel(\"Latitude\")\n",
    "\n",
    "# Show the plot\n",
    "plt.show()\n"
   ]
  },
  {
   "cell_type": "markdown",
   "id": "f8031c40",
   "metadata": {},
   "source": [
    "This map visually represents the biodiversity hotspots in South Africa. We have 3 biodeversities dipicted on the map. \n",
    "\n",
    "\n",
    "# <span style=\"font-family: candara; font-size: 18px; font-style: normal; font-weight: bold; letter-spacing: 2px; text-align: center; color:  #01796F; line-height:1.0\">5.1 Cape Floristic Region </span>\n",
    "\n",
    " \n",
    "- **High Endemism:** The Cape Floristic Region is known for its exceptionally high levels of plant endemism, meaning it contains many plant species that are found nowhere else on Earth. Hotspot analysis would focus on identifying and quantifying these endemic species.\n",
    "\n",
    "- **Biodiversity Conservation:** The region's unique flora and fauna make it a global priority for biodiversity conservation. Conservation efforts would likely be a key aspect of the hotspot analysis, including examining the conservation status of species and ecosystems.\n",
    "\n",
    "- **Ecosystem Services:** The Cape Floristic Region provides important ecosystem services, including water purification, carbon sequestration, and pollination. Analyzing the region's role in providing these services would be part of the analysis.\n",
    "\n",
    "\n",
    "# <span style=\"font-family: candara; font-size: 18px; font-style: normal; font-weight: bold; letter-spacing: 2px; text-align: center; color:  #01796F; line-height:1.0\">5.2 Succulent Karoo</span>\n",
    "\n",
    "- **Desert Biodiversity:** Succulent Karoo, situated in a semi-arid desert environment, is home to a range of succulent plant species adapted to arid conditions. Hotspot analysis would explore the unique adaptations of these species and their role in desert ecosystems.\n",
    "\n",
    "- **Diversity of Succulents:** The region is known for its rich diversity of succulents, including aloe and euphorbia species. The analysis would delve into the variety and distribution of these plants.\n",
    "\n",
    "- **Conservation Challenges:** Given the vulnerability of desert ecosystems, the analysis might also address conservation challenges, including the impact of climate change and habitat degradation.\n",
    "\n",
    "# <span style=\"font-family: candara; font-size: 18px; font-style: normal; font-weight: bold; letter-spacing: 2px; text-align: center; color:  #01796F; line-height:1.0\">5.3 Maputaland-Pondoland-Albany: </span>\n",
    "\n",
    "\n",
    "- **Coastal Biodiversity:** This hotspot includes a range of coastal and terrestrial ecosystems. The analysis would explore the biodiversity in both these environments.\n",
    "\n",
    "- **Mangroves and Coral Reefs:**  Mangroves and coral reefs along the coast provide habitat for diverse marine life. Hotspot analysis might focus on the conservation of these critical ecosystems.\n",
    "\n",
    "- **Transboundary Conservation:** Some parts of this hotspot extend into neighboring countries (Mozambique and Swaziland). An analysis might consider transboundary conservation efforts and challenges."
   ]
  },
  {
   "cell_type": "markdown",
   "id": "15f01dd3",
   "metadata": {},
   "source": [
    "<a class=\"anchor\" id=\"part6\"></a>\n",
    "# <span style=\"font-family: candara; font-size: 25px; font-style: normal; font-weight: bold; letter-spacing: 3px; text-align: center; color:  #01796F; line-height:1.0\"> 6. SDG ALIGNMENT </span>\n",
    "\n",
    "<hr style=\"height: 0.5px; border: 0; background-color: #342D7E\"> "
   ]
  },
  {
   "cell_type": "markdown",
   "id": "95461cfc",
   "metadata": {},
   "source": [
    "\n",
    "# <span style=\"font-family: candara; font-size: 18px; font-style: normal; font-weight: bold; letter-spacing: 3px; text-align: center; color:  #01796F; line-height:1.0\"> 6.1 Cape Floristic Region:</span>\n",
    "\n",
    "\n",
    "- **SDG 15:** Life on Land: The Cape Floristic Region aligns with SDG 15, which focuses on the conservation and sustainable use of terrestrial ecosystems. This hotspot is rich in plant diversity, and the preservation of its unique flora and ecosystems directly contributes to this goal.\n",
    "\n",
    "- **SDG 13:** Climate Action: As a global biodiversity hotspot, the Cape Floristic Region plays a role in mitigating climate change through carbon sequestration and the conservation of habitats that support carbon-storing plants."
   ]
  },
  {
   "cell_type": "markdown",
   "id": "0f3904f4",
   "metadata": {},
   "source": [
    "\n",
    "# <span style=\"font-family: candara; font-size: 18px; font-style: normal; font-weight: bold; letter-spacing: 3px; text-align: center; color:  #01796F; line-height:1.0\"> 6.2 Succulent Karoo:</span>\n",
    "\n",
    "- **SDG 15:** Life on Land: The Succulent Karoo aligns with SDG 15, particularly concerning its unique succulent plants and adaptations to arid environments. Conserving this hotspot contributes to the protection of terrestrial ecosystems.\n",
    "\n",
    "- **SDG 13:** Climate Action: The region's succulent plants and ecosystems have relevance to climate change adaptation and mitigation, such as drought-resistant plant species."
   ]
  },
  {
   "cell_type": "markdown",
   "id": "1cc14233",
   "metadata": {},
   "source": [
    "# <span style=\"font-family: candara; font-size: 18px; font-style: normal; font-weight: bold; letter-spacing: 3px; text-align: center; color:  #01796F; line-height:1.0\"> 6.3 Maputaland-Pondoland-Albany::</span>\n",
    "\n",
    "- **SDG 14:** Life Below Water: This hotspot, which includes coastal and marine areas, is relevant to SDG 14, which focuses on the conservation and sustainable use of oceans, seas, and marine resources.\n",
    "\n",
    "- **SDG 15:** Life on Land: The terrestrial components of this hotspot align with SDG 15, particularly concerning the conservation of forests, terrestrial ecosystems, and biodiversity."
   ]
  },
  {
   "cell_type": "markdown",
   "id": "fcd3e229",
   "metadata": {},
   "source": [
    "<a class=\"anchor\" id=\"part7\"></a>\n",
    "# <span style=\"font-family: candara; font-size: 25px; font-style: normal; font-weight: bold; letter-spacing: 3px; text-align: center; color:  #01796F; line-height:1.0\"> 7.CONSERVATION IMPACT</span>\n",
    "\n",
    "<hr style=\"height: 0.5px; border: 0; background-color: #342D7E\"> "
   ]
  },
  {
   "cell_type": "markdown",
   "id": "6ccd42cb",
   "metadata": {},
   "source": [
    "\n",
    "**7.1  Cape Floristic Region:**\n",
    "   - **Biodiversity Conservation:** Conservation efforts in the Cape Floristic Region are of paramount importance due to its remarkable plant diversity and high levels of endemism. Protecting this hotspot contributes to preserving unique plant species and ecosystems.\n",
    "   - **Ecosystem Services:** The Cape Floristic Region provides crucial ecosystem services, including water purification, carbon sequestration, and pollination. Conservation has a direct impact on maintaining these services, which are vital for local communities and the environment.\n",
    "   - **Tourism and Economy:** Conservation activities in the region also support sustainable tourism, which is a significant economic driver. The presence of unique flora and fauna attracts visitors and generates revenue for the local economy.\n",
    "\n",
    "**7.2 Succulent Karoo:**\n",
    "   - **Plant and Species Conservation:** The Succulent Karoo is home to diverse and unique succulent plants, including aloes and euphorbias. Conservation efforts are crucial for the protection of these plant species and the ecosystems they inhabit.\n",
    "   - **Climate Resilience:** Succulent Karoo's adaptations to arid conditions can serve as a valuable resource for understanding and adapting to changing climates. Research and conservation in this hotspot contribute to climate resilience strategies.\n",
    "   - **Local Livelihoods:** Conservation projects can provide opportunities for local communities to engage in sustainable land management and ecotourism, thereby supporting livelihoods in this arid region.\n",
    "\n",
    "**7.3 Maputaland-Pondoland-Albany:**\n",
    "   - **Coastal and Marine Conservation:** This hotspot includes critical coastal and marine ecosystems like mangroves and coral reefs. Conservation efforts here are essential for protecting marine biodiversity and supporting coastal communities that rely on fishing and tourism.\n",
    "   - **Transboundary Conservation:** Since parts of this hotspot extend into neighboring countries, conservation initiatives may promote regional cooperation and transboundary conservation efforts, contributing to peace and international cooperation (SDG 16).\n",
    "   - **Climate Resilience:** The conservation of mangroves and coral reefs in the context of climate change adaptation and mitigation is significant for safeguarding coastal communities from the impacts of rising sea levels and extreme weather events.\n"
   ]
  },
  {
   "cell_type": "markdown",
   "id": "d2eefb01",
   "metadata": {},
   "source": [
    "<a class=\"anchor\" id=\"part9\"></a>\n",
    "# <span style=\"font-family: candara; font-size: 25px; font-style: normal; font-weight: bold; letter-spacing: 3px; text-align: center; color:  #01796F; line-height:1.0\"> 8. CONLCUSION </span>\n",
    "\n",
    "<hr style=\"height: 0.5px; border: 0; background-color: #342D7E\"> "
   ]
  },
  {
   "cell_type": "markdown",
   "id": "3a9db55e",
   "metadata": {},
   "source": [
    "\n",
    "\n",
    "This prototype has demonstrated the significant role that biodiversity hotspots, such as the Cape Floristic Region, Succulent Karoo, and Maputaland-Pondoland-Albany in South Africa, play in contributing to Sustainable Development Goals (SDGs) and broader sustainability efforts.\n",
    "\n",
    "These hotspots are not only repositories of unique and diverse flora and fauna but also serve as valuable ecosystems that provide essential services to both the environment and local communities. The conservation impact of these hotspots extends to preserving biodiversity, supporting climate resilience, and fostering economic opportunities through sustainable land management and ecotourism.\n",
    "\n",
    "The alignment of these hotspots with specific SDGs underscores their global importance and highlights the need for continued and focused conservation efforts. It is imperative that we recognize the connections between these hotspots and our broader sustainability goals, emphasizing that the preservation and sustainable management of these critical areas contribute to a more sustainable and resilient planet.\n",
    "\n",
    "As we move forward, the collaboration of governments, conservation organizations, communities, and individuals is essential to ensure the long-term protection and sustainable use of these biodiversity hotspots. This prototype serves as a reminder of the profound impact of preserving our natural heritage and the role it plays in achieving a more sustainable and equitable world."
   ]
  },
  {
   "cell_type": "markdown",
   "id": "eb539175",
   "metadata": {},
   "source": [
    "<a class=\"anchor\" id=\"part10\"></a>\n",
    "# <span style=\"font-family: candara; font-size: 25px; font-style: normal; font-weight: bold; letter-spacing: 2px; text-align: center; color:  #01796F; line-height:1.0\"> 9.REFERENCES </span>\n",
    "\n",
    "<hr style=\"height: 0.5px; border: 0; background-color: #342D7E\"> "
   ]
  },
  {
   "cell_type": "markdown",
   "id": "722627d7",
   "metadata": {},
   "source": [
    "The information and resources used in the prototype:\n",
    "\n",
    "1. Sample Data Source: [https://drive.google.com/file/d/1_mfGM-9gE6p10vPwePnjRNBgp8ysA0dy/view?usp=sharing]\n",
    "\n",
    "2. GeoPandas Documentation: [GeoPandas Documentation](https://geopandas.org/en/stable/)\n",
    "\n",
    "3. Matplotlib Documentation: [Matplotlib Documentation](https://matplotlib.org/stable/contents.html)\n",
    "\n",
    "4. United Nations. (n.d.). Sustainable Development Goals. [Link](https://sdgs.un.org/goals)\n",
    "\n",
    "5. What is a [prototype ](https://www.quora.com/What-is-prototype-in-programming#:~:text=In%20programming%2C%20a%20prototype%20is,Paul%20Msegeya)\n"
   ]
  }
 ],
 "metadata": {
  "kernelspec": {
   "display_name": "Python 3 (ipykernel)",
   "language": "python",
   "name": "python3"
  },
  "language_info": {
   "codemirror_mode": {
    "name": "ipython",
    "version": 3
   },
   "file_extension": ".py",
   "mimetype": "text/x-python",
   "name": "python",
   "nbconvert_exporter": "python",
   "pygments_lexer": "ipython3",
   "version": "3.9.18"
  }
 },
 "nbformat": 4,
 "nbformat_minor": 5
}
