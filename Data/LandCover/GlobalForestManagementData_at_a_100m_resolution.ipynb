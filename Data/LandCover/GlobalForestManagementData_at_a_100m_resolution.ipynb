{
 "cells": [
  {
   "attachments": {},
   "cell_type": "markdown",
   "id": "f2b98f0a",
   "metadata": {},
   "source": [
    "## Title: Global Forest Maps: Global forest management data for 2015 at a 100 m resolution"
   ]
  },
  {
   "attachments": {},
   "cell_type": "markdown",
   "id": "c5442394",
   "metadata": {},
   "source": [
    "### Description\n",
    "Global knowledge of forest management is critical for informing policies and decision-making on issues such as forest conservation, sustainable forest management, renewable energy, potential supply assessment of forest biomass, carbon accounting, and forest restoration practices. Having a globally consistent map that characterizes the full range of forest management, from intact forests to plantations and agroforestry, could significantly facilitate these decision-making processes.\n",
    "\n",
    "Previous work has identified some aspects of forest management in global maps, but this is usually limited to a small number of very broad classes"
   ]
  },
  {
   "attachments": {},
   "cell_type": "markdown",
   "id": "e430f5c7",
   "metadata": {},
   "source": [
    "### FLINT\n",
    "This dataset has been checked/pre-processed and is suitable for use in FLINT. Please adhere to individual dataset licence conditions and citations. Processed data can be accessed here:  [Land Sector Datasets](https://datasets.mojaglobal.workers.dev/) https://datasets.mojaglobal.workers.dev/"
   ]
  },
  {
   "attachments": {},
   "cell_type": "markdown",
   "id": "89fecc73",
   "metadata": {},
   "source": [
    "### Format\n",
    "<b>Extent</b>: Global coverage</br>\n",
    "<b>Resolution</b>: Raster 0.5-degree resolution (this can be resampled to any resolution)</br>\n",
    "<b>File type</b>: geotiff (.tif) and geojson (.json)</br> \n",
    "<b>Cordinate system</b>: EPSG:4326 (WGS84)</br>\n",
    "<b>Year</b>: 2021<br>\n",
    "<b>Size</b>: 22.4MB"
   ]
  },
  {
   "attachments": {},
   "cell_type": "markdown",
   "id": "35428783",
   "metadata": {},
   "source": [
    "### Original Source\n",
    "Downloaded from: https://zenodo.org/record/5879022/files/FML_v3-2_with-colorbar.tif?download=1"
   ]
  },
  {
   "attachments": {},
   "cell_type": "markdown",
   "id": "58b163e5",
   "metadata": {},
   "source": [
    "### License\n",
    "Creative Commons License: This work is licensed under a Creative Commons Attribution 4.0 International"
   ]
  },
  {
   "attachments": {},
   "cell_type": "markdown",
   "id": "f3610b03",
   "metadata": {},
   "source": [
    "### Citation\n",
    "Myroslava Lesiv, Dmitry Schepaschenko, Marcel Buchhorn, Linda See, Martina Dürauer, Ivelina Georgieva, Martin Jung, Florian Hofhansl, Katharina Schulze, Andrii Bilous, Volodymyr Blyshchyk, Liudmila Mukhortova, Carlos Luis Muñoz Brenes, Leonid Krivobokov, Stephan Ntie, Khongor Tsogt, Stephan Alexander Pietsch, Elena Tikhonova, Moonil Kim, … Steffen Fritz. (2021). Global forest management data at a 100m resolution for the year 2015 [Data set]. In Nature Scientific Data (Version 3). Zenodo. https://doi.org/10.5281/zenodo.5879022"
   ]
  },
  {
   "attachments": {},
   "cell_type": "markdown",
   "id": "c9ef731d",
   "metadata": {},
   "source": [
    "### Metadata\n",
    "View: https://zenodo.org/record/5879022/files/FML_v3-2_with-colorbar.tif?download=1"
   ]
  },
  {
   "attachments": {},
   "cell_type": "markdown",
   "id": "a1ca9e09",
   "metadata": {},
   "source": [
    "### Notes\n",
    "Coarse resolution raster. Resample to finer resolution using code below. Values are floating but could be classified to integer or classes in QGIS, gdal_calc, gdal_reclassify or ArcPy."
   ]
  },
  {
   "attachments": {},
   "cell_type": "markdown",
   "id": "1f5d4a4c",
   "metadata": {},
   "source": [
    "### Processing\n",
    "Dataset resample, projection WGS84. Code is provided below."
   ]
  },
  {
   "cell_type": "code",
   "execution_count": null,
   "id": "9bcf51aa",
   "metadata": {
    "vscode": {
     "languageId": "plaintext"
    }
   },
   "outputs": [],
   "source": [
    "#code to resample dataset\n",
    "gdalwarp -co COMPRESS=DEFLATE -co PREDICTOR=2 -co ZLEVEL=9 -t_srs EPSG:4326 -tr 0.01 0.01 -r near -te -180.0 -90.0 180.0 90.0 -te_srs EPSG:4326 -of GTiff FML_v3-2_with-colorbar.tif GlobalForestManagementData_at_a_100m_resolution.tif"
   ]
  }
 ],
 "metadata": {
  "kernelspec": {
   "display_name": "Python 3 (ipykernel)",
   "language": "python",
   "name": "python3"
  },
  "language_info": {
   "codemirror_mode": {
    "name": "ipython",
    "version": 3
   },
   "file_extension": ".py",
   "mimetype": "text/x-python",
   "name": "python",
   "nbconvert_exporter": "python",
   "pygments_lexer": "ipython3",
   "version": "3.9.13"
  }
 },
 "nbformat": 4,
 "nbformat_minor": 5
}
