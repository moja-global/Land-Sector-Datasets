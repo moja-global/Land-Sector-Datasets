{
 "cells": [
  {
   "cell_type": "markdown",
   "metadata": {},
   "source": [
    "## Title: Avitabile Biomass Map 2016\n",
    "\n",
    "### Description\n",
    "An integrated pan-tropical map of aboveground biomass in woody vegetation using multiple reference datasets.<br>\n",
    "\n",
    "Using a novel data fusion approach (see below), we have integrated two existing large-scale biomass maps (Saatchi et al., 2011; Baccini et al., 2012) with local high-quality biomass data into an improved pan-tropical aboveground biomass map of woody vegetation at 1 km resolution for the 2000’s.<br>\n",
    "\n",
    "The method and results are described in Avitabile et al. (2016). \n",
    "\n",
    "### FLINT\n",
    "This dataset has been checked/pre-processed and is suitable for use in FLINT. Please adhere to individual dataset licence conditions and citations. Processed data can be accessed here: [Land Sector Datasets](https://datasets.mojaglobal.workers.dev/) https://datasets.mojaglobal.workers.dev/<br>\n",
    "\n",
    "### Format\n",
    "<b>Extent: </b>Global coverage (tropics)<br>\n",
    "<b>Resolution:</b> Raster 0.01-degree<br>\n",
    "<b>File type:</b> geotiff (.tif)<br>\n",
    "<b>Cordinate system:</b> EPSG:4326 (WGS84)<br>\n",
    "<b>Temporal Resolution: </b>2000s<br>\n",
    "<b>Size:</b>\n",
    "    \n",
    "### Original source\n",
    "The data are freely accessible, and can be viewed and downloaded here: Pan-tropical biomass map [view](http://lucid.wur.nl/)[download](http://lucid.wur.nl/datasets/high-carbon-ecosystems)<br>\n",
    "30 arc-seconds = 0.0083 degrees = ca. 1 km/pixel degree resolution raster<br>\n",
    "Cordinate system: EPSG:4326 (WGS84)\n",
    "\n",
    "### Licence\n",
    "Free to use. Please cite.\n",
    "\n",
    "### Citation\n",
    "Avitabile V, Herold M, Heuvelink G, Lewis SL, Phillips OL, Asner GP et al. (2016). An integrated pan-tropical biomass maps using multiple reference datasets. Global Change Biology, 22: 1406–1420. doi:10.1111/gcb.13139.\n",
    "\n",
    "### Metadata\n",
    "For a proper use and description of this dataset, please refer to the mentioned article (Avitable et al 2016).<br>\n",
    "\n",
    "Additional metadata pdf is supplied with the original rasteres in the moja-global land sector data drive (https://datasets.mojaglobal.workers.dev/).\n",
    "\n",
    "### Notes\n",
    "Variable: Aboveground biomass density of vegetation in units of Mg/ha.\n",
    "\n",
    "### Processing\n",
    "This dataset has been resampled to 0.01 degrees (nearest neighbour) and aligned with the full global extent 180, 90, -90, -180 for use in FLINT. Please use the code below to resample to any resolution using gdal (or QGIS)."
   ]
  },
  {
   "cell_type": "code",
   "execution_count": null,
   "metadata": {},
   "outputs": [],
   "source": [
    "#Use this code to resample a different raster resolution at -tr using GDAL (or QGIS)\n",
    "gdalwarp.exe -co COMPRESS=DEFLATE -co PREDICTOR=2 -co ZLEVEL=9 -t_srs EPSG:4326 -tr 0.01 0.01 -r near -te -180.0 -90.0 180.0 90.0 -te_srs EPSG:4326 -of GTiff input.tif output.tif"
   ]
  }
 ],
 "metadata": {
  "kernelspec": {
   "display_name": "Python 3",
   "language": "python",
   "name": "python3"
  },
  "language_info": {
   "codemirror_mode": {
    "name": "ipython",
    "version": 3
   },
   "file_extension": ".py",
   "mimetype": "text/x-python",
   "name": "python",
   "nbconvert_exporter": "python",
   "pygments_lexer": "ipython3",
   "version": "3.8.5"
  }
 },
 "nbformat": 4,
 "nbformat_minor": 4
}
