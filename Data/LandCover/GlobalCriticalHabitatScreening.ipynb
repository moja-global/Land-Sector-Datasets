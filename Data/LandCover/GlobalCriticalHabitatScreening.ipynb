{
 "cells": [
  {
   "cell_type": "markdown",
   "metadata": {},
   "source": [
    "## Title: Global Critical Habitat Screening Layer\n",
    "\n",
    "### Description\n",
    "This screening layer shows the global spatial distribution of likely or potential Critical Habitat, as defined by the International Finance Corporation’s Performance Standard 6 (IFC PS6) criteria.\n",
    "\n",
    "The composite Critical Habitat layer draws on 20 global-scale datasets, of which 12 datasets support screening of Critical Habitat in the terrestrial realm and 15 datasets support screening in the marine realm. Datasets were disaggregated into subsets if the underlying attributes aligned with different Critical Habitat criteria.\n",
    "\n",
    "The original raster layer attributes each grid cell (1×1 km) as likely or potential Critical Habitat, or unclassified based on a classification scheme reflecting biodiversity data layer alignment with IFC-PS6 Critical Habitat criteria/scenarios and inherent degree of certainty (in terms of presence on the ground).\n",
    "\n",
    "For further information on underlying trigger features behind a likely or potential Critical Habitat value for each cell within the composite data layer please contact business-support@unep-wcmc.org.\n",
    "\n",
    "### FLINT\n",
    "This dataset has been pre-processed/checked and is suitable for use in FLINT. Please adhere to individual dataset licence conditions and citations. Processed data can be accessed here: https://datasets.mojaglobal.workers.dev/\n",
    "\n",
    "### Format\n",
    "<b>Extent: </b>Global coverage<br>\n",
    "<b>Format</b>: raster geotiff (.tiff) 0.005 degree <br>\n",
    "<b>Cordinate system:</b> EPSG:4326 (WGS84)<br>\n",
    "<b>Year: v1.0 (July 2017)</b><br>\n",
    "<b>Size:</b>  15MB\n",
    "\n",
    "### Original source\n",
    "Original Source: https://data.unep-wcmc.org/datasets/44 Accessed 13/12/2020 <br>\n",
    "Global coverage, raster (ESRI Grid) 1×1 km<br>\n",
    "Cordinate system: (Cyclindrical Equal Area)\n",
    "\n",
    "### Licence\n",
    "Creative Commons Attribution 4.0 Unported (CC BY 4.0). See https://creativecommons.org/licenses/by/4.0/ for details. Free to (1) copy and redistribute the material in any medium or format, (2) remix, transform, and build upon the material for any purpose, even commercially. You must give appropriate credit, provide a link to the license, and indicate if changes were made. You may do so in any reasonable manner, but not in any way that suggests the licensor endorses you or your use. You may not apply legal terms or technological measures that legally restrict others from doing anything the license permits.\n",
    "\n",
    "### Citation\n",
    "UNEP-WCMC (2017) Global Critical Habitat screening layer (Version 1.0). Cambridge (UK): UN Environment World Conservation Monitoring Centre. http://data.unep-wcmc.org/datasets/44\n",
    "\n",
    "### Metadata\n",
    "View: https://data.unep-wcmc.org/pdfs/44/WCMC_045_GlobalCH_IFCPS6_2017.pdf?1541066074<br>\n",
    "VALUE\tCRIT_HAB<br>\n",
    "1\tUNCLASSIFIED<br>\n",
    "2\tLIKELY<br>\n",
    "3\tPOTENTIAL<br>\n",
    "0   NODATA<br>\n",
    "\n",
    "### Notes\n",
    "Data gaps may occur in terms of completeness and representativeness of underlying datasets. All datasets are subject to errors of commission (stating a feature occurs when it does not) and errors of omission (stating a feature does not occur when it does). Areas classified as likely or potential Critical Habitat therefore require on-ground validation to confirm screening results and unambiguously determine the presence  or absence of Critical Habitat. Similarly, unclassified areas may include locations for which there are no data available to indicate Critical Habitat, and locations which are not Critical Habitat based on the lower biodiversity values located in that area.\n",
    "\n",
    "### Processing\n",
    "Transform coordinate system to EPSG:4326 (WGS84) and raster to geotiff with cell alignment of 0.005 degree."
   ]
  },
  {
   "cell_type": "code",
   "execution_count": null,
   "metadata": {},
   "outputs": [],
   "source": [
    "#Code to transform coodinate system \n",
    "gdalwarp -t_srs EPSG:4326 -dstnodata 0.0 -tr 0.005 0.005 -r near -te -180.0 -90.0 180.0 90.0 -te_srs EPSG:4326 -of GTiff -co COMPRESS=DEFLATE -co PREDICTOR=2 -co ZLEVEL=9 C:/Data/Inputcrhab_lpu.ovr C:/Data/Outputcrhabitat_lpu.tif"
   ]
  },
  {
   "cell_type": "code",
   "execution_count": null,
   "metadata": {},
   "outputs": [],
   "source": []
  }
 ],
 "metadata": {
  "kernelspec": {
   "display_name": "Python 3",
   "language": "python",
   "name": "python3"
  },
  "language_info": {
   "codemirror_mode": {
    "name": "ipython",
    "version": 3
   },
   "file_extension": ".py",
   "mimetype": "text/x-python",
   "name": "python",
   "nbconvert_exporter": "python",
   "pygments_lexer": "ipython3",
   "version": "3.8.5"
  }
 },
 "nbformat": 4,
 "nbformat_minor": 4
}
