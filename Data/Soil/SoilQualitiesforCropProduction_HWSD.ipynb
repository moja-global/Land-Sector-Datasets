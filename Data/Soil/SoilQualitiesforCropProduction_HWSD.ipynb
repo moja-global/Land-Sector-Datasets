{
 "cells": [
  {
   "cell_type": "markdown",
   "metadata": {},
   "source": [
    "## Title: Soil Qualities for Crop Production HWSD Supplement\n",
    "\n",
    "### Description\n",
    "On the basis of soil parameters provided by HWSD seven key soil qualities important for crop production have been derived, namely: nutrient availability, nutrient retention capacity, rooting conditions, oxygen availability to roots, excess salts, toxicities, and workability. Soil qualities are related to the agricultural use of the soil and more specifically to specific crop requirements and tolerances. For the illustration of soil qualities, maize was selected as reference crop because of its global importance and wide geographical distribution.\n",
    "\n",
    "### FLINT\n",
    "This dataset has been checked/pre-processed and is suitable for use in FLINT. Please adhere to individual dataset licence conditions and citations. Processed data can be accessed here: [Land Sector Datasets](https://datasets.mojaglobal.workers.dev/) https://datasets.mojaglobal.workers.dev/<br>\n",
    "\n",
    "### Format\n",
    "<b>Extent: </b>Global coverage -180.00,-90.00 : 180.00,90.00<br>\n",
    "<b>Resolution:</b> 0.05-degree, geotiff (.tif)<br>\n",
    "<b>File type:</b> geotiff (.tif)<br>\n",
    "<b>Cordinate system:</b> EPSG:4326 (WGS84)<br>\n",
    "<b>Temporal Resolution: </b>2000<br>\n",
    "<b>Size:</b> 692MB\n",
    "    \n",
    "### Original source\n",
    "http://webarchive.iiasa.ac.at/Research/LUC/External-World-soil-database/HTML/SoilQualityData.html?sb=11 Accessed 19/12/2020.<br>\n",
    "Global coverage, -180.00,-90.00 : 180.00,90.00, Ascii format (.asc)<br>\n",
    "cell size 5 minutes or 30 arc seconds<br>\n",
    "Cordinate system EPSG: 4326 (WGS84)\n",
    "\n",
    "### Licence\n",
    "Credit source, No commercial use without written permission, Other use permitted without permission.\n",
    "\n",
    "### Citation\n",
    "Fischer, G., F. Nachtergaele, S. Prieler, H.T. van Velthuizen, L. Verelst, D. Wiberg, 2008. Global Agro-ecological Zones Assessment for Agriculture (GAEZ 2008). IIASA, Laxenburg, Austria and FAO, Rome, Italy.\n",
    "\n",
    "\n",
    "### Metadata\n",
    "View for full description of each: http://webarchive.iiasa.ac.at/Research/LUC/External-World-soil-database/HTML/SoilQuality.html?sb=10<br>\n",
    "DATA FILES DESCRIPTION<br>\n",
    "sq1.tif Nutrient availability<br>\n",
    "sq2.tif Nutrient retention capacity<br>\n",
    "sq3.tif Rooting conditions<br>\n",
    "sq4.tif Oxygen availability to roots<br>\n",
    "sq5.tif Excess salts<br>\n",
    "sq6.tif Toxicity<br>\n",
    "sq7.tif Workability (constraining field management)<br>\n",
    "\n",
    "Note that the classes used in the Soil Quality evaluation are:<br>\n",
    "\n",
    "1: No or slight limitations<br>\n",
    "\n",
    "2: Moderate limitations<br>\n",
    "\n",
    "3: Sever limitations<br>\n",
    "\n",
    "4: Very severe limitations<br>\n",
    "\n",
    "5: Mainly non-soil<br>\n",
    "\n",
    "6: Permafrost area<br>\n",
    "\n",
    "7: Water bodies<br>\n",
    "\n",
    "### Notes\n",
    "Classes are qualitative not quantitative. Only classes 1 to 4 are corresponding to an assessment of soil limitations for plant growth. Class 1 is generally rated between 80 and 100% of the growth potential, class 2 between 60 and 80%, class 3 between 40 and 60%, and class 4 less than 40%.\n",
    "\n",
    "### Processing\n",
    "Convert from ASCII to TIFF and resample to 0.05 resolution."
   ]
  },
  {
   "cell_type": "code",
   "execution_count": null,
   "metadata": {},
   "outputs": [],
   "source": [
    "#Convert from ASCII to TIFF and resample to 0.05 resolution.\n",
    "gdalwarp -t_srs EPSG:4326 -tr 0.05 0.05 -r near -of GTiff C:/Data/downloads/SoilQuality/sq1.asc C:/Data/SoilQuality/tiff/sq1.tif"
   ]
  }
 ],
 "metadata": {
  "kernelspec": {
   "display_name": "Python 3",
   "language": "python",
   "name": "python3"
  },
  "language_info": {
   "codemirror_mode": {
    "name": "ipython",
    "version": 3
   },
   "file_extension": ".py",
   "mimetype": "text/x-python",
   "name": "python",
   "nbconvert_exporter": "python",
   "pygments_lexer": "ipython3",
   "version": "3.8.5"
  }
 },
 "nbformat": 4,
 "nbformat_minor": 4
}
