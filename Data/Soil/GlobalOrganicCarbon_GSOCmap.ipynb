{
 "cells": [
  {
   "cell_type": "markdown",
   "metadata": {},
   "source": [
    "## Title: Global Organic Carbon GSOCmap VERSION 1.5.0\n",
    "\n",
    "### Description\n",
    "GSOCmap is the first global soil organic carbon map ever produced through a consultative and participatory process involving member countries, which makes this map totally new and unique. In fact, the map was prepared by member countries, under the guidance of the Intergovernmental Technical Panel on Soils and the Global Soil Partnership Secretariat. Values are SOC tonnes ha-1<br>\n",
    "\n",
    "Countries agreed on the methodology to produce the map and were trained on modern tools and methodologies to develop national maps. The Global Soil Partnership then gathered all national maps to produce the final product, ensuring a thorough harmonization process.<br>\n",
    "\n",
    "VERSION 1.5.0\n",
    "\n",
    "### FLINT\n",
    "This dataset has been checked/pre-processed and is suitable for use in FLINT. Please adhere to individual dataset licence conditions and citations. Processed data can be accessed here: [Land Sector Datasets](https://datasets.mojaglobal.workers.dev/) https://datasets.mojaglobal.workers.dev/<br>\n",
    "\n",
    "### Format\n",
    "<b>Extent: </b>Global coverage<br>\n",
    "<b>Resolution:</b> Raster 0.005-degree<br>\n",
    "<b>File type:</b> geotiff (.tif) FLOAT<br>\n",
    "<b>Cordinate system:</b> EPSG:4326 (WGS84)<br>\n",
    "<b>Temporal Resolution: </b>2000<br>\n",
    "<b>Size:</b>642MB\n",
    "    \n",
    "### Original source\n",
    "http://www.fao.org/soils-portal/data-hub/soil-maps-and-databases/global-soil-organic-carbon-map-gsocmap/en/<br>\n",
    "GSOCmap can also be accessed using Web Map Services at: http://54.229.242.119/geoserver/GSOC/wms?\n",
    "\n",
    "### Licence\n",
    "GSOCmap data can be freely used under Creative commons CC BY licence on the condition of crediting FAO, ITPS and acknowledging data providers [(88 providors)](http://www.fao.org/global-soil-partnership/pillars-action/4-information-and-data/global-soil-organic-carbon-gsoc-map/gsocmap-contributors/en).\n",
    "\n",
    "### Citation\n",
    "FAO and ITPS. 2018. Global Soil Organic Carbon Map (GSOCmap). http://www.fao.org/soils-portal/data-hub/soil-maps-and-databases/global-soil-organic-carbon-map-gsocmap/en/\n",
    "\n",
    "### Metadata\n",
    "Technical Report: http://www.fao.org/3/I8891EN/i8891en.pdf<br>\n",
    "Values: 0-750 SOC tonnes ha-1\n",
    "\n",
    "### Notes\n",
    "Recalibrate raster alignment to work in FLINT - pixel size 0.005 but can be resampled from the original to any size below.\n",
    "\n",
    "### Processing\n",
    "Use code below to resample the original tif."
   ]
  },
  {
   "cell_type": "code",
   "execution_count": null,
   "metadata": {},
   "outputs": [],
   "source": [
    "for /R C:\\downloads\\GSOC\\ %f IN (*.tif) do gdalwarp.exe -co COMPRESS=DEFLATE -co PREDICTOR=2 -co ZLEVEL=9 -t_srs EPSG:4326 -tr 0.005 0.005 -tap -te -180 -90 180 90 -r near -of GTiff -t_srs EPSG:4326 -multi -overwrite %f C:\\GSOC\\processed%~nf.tif"
   ]
  }
 ],
 "metadata": {
  "kernelspec": {
   "display_name": "Python 3",
   "language": "python",
   "name": "python3"
  },
  "language_info": {
   "codemirror_mode": {
    "name": "ipython",
    "version": 3
   },
   "file_extension": ".py",
   "mimetype": "text/x-python",
   "name": "python",
   "nbconvert_exporter": "python",
   "pygments_lexer": "ipython3",
   "version": "3.8.5"
  }
 },
 "nbformat": 4,
 "nbformat_minor": 4
}
