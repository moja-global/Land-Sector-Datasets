{
 "cells": [
  {
   "cell_type": "markdown",
   "metadata": {},
   "source": [
    "## Title:  Global Soil Maps: Global Soil Organic Carbon Density in kg Carbon/m2 to 1 meter depth\n",
    "\n",
    "### Description\n",
    "Soil organic carbon is a general term for the total of all the different non-living organic compounds in the soil, it also excludes dead plants and animals. The organic carbon in the soil is used by plants for nourishment as they grow, and the plants themselves replenish the resource when they decay after they die.<br>\n",
    "\n",
    "Although it would seem that high densities of soil carbon would correspond to areas where vegetation thrives, this is not necessarily the case. For example, the regions of the world categorized as tropical rainforest typically have very low quality soils - not because the soils are bad, rather because the highly active vegetation on the surface has already extracted most of the nutrient from the soil. The regions of the world where soil carbon accumulates, are therefore regions where vegetation growth is generally slower - such as swamps, bogs, and wetlands.<br>\n",
    "\n",
    "Values floating point 0-25 kg C/m2\n",
    "\n",
    "### FLINT\n",
    "This dataset has been checked/pre-processed and is suitable for use in FLINT. Please adhere to individual dataset licence conditions and citations. Processed data can be accessed here: [Land Sector Datasets](https://datasets.mojaglobal.workers.dev/) https://datasets.mojaglobal.workers.dev/<br>\n",
    "\n",
    "### Format\n",
    "<b>Extent: </b>Global coverage -180.0 -90.0 180.0 90.0 <br>\n",
    "<b>Resolution:</b> Raster 0.5-degree resolution (this can be resampled to any resolution)<br>\n",
    "<b>File type:</b> geotiff (.tif) and geojson (.json) float NoData -3.4028235e+38<br>\n",
    "<b>Cordinate system:</b> EPSG:4326 (WGS84)<br>\n",
    "<b>Year: </b>2002<br>\n",
    "<b>Size:</b> 1MB<br>\n",
    "\n",
    "### Original source\n",
    "Downloaded from: https://databasin.org/datasets/a4cb6d367eae4e52a08902874f8bfedf/ Accessed 19/12/2020 Sign in (free accounts available) to Data Basin to download.<br>\n",
    "Grid, float; 0.5 resolution; Cordinate system: WGS1984\n",
    "\n",
    "### Licence\n",
    "Creative Commons LicenseThis work is licensed under a Creative Commons Attribution 3.0 License.\n",
    "\n",
    "### Citation\n",
    "Title: Global Soil Organic Carbon Density in kg Carbon/m2 to 1 meter depth\n",
    "Credits: IGBP-DIS (1998) SoilData(V.0) A program for creating global soil-property databases, IGBP Global Soils Data Task, France. Publication Date: 2002 http://www.sage.wisc.edu/atlas/maps.php?datasetid=21&includerelatedlinks=1&dataset=21\n",
    "\n",
    "### Metadata\n",
    "View: https://databasin.org/datasets/a4cb6d367eae4e52a08902874f8bfedf/\n",
    "\n",
    "### Notes\n",
    "Coarse resolution raster. Reample to finer resolution using code below. Values are floating but could be classified to integer or classes in QGIS, gdal_calc, gdal_reclassify or ArcPy.\n",
    "\n",
    "### Processing\n",
    "Dataset converted to tiff, projection WGS84. Code is provided below."
   ]
  },
  {
   "cell_type": "code",
   "execution_count": null,
   "metadata": {},
   "outputs": [],
   "source": [
    "# Convert from .rst to tif and apply WGS84 and resample to 0.5 (or other) resolution (enter resolution at -tr, file location and output)\n",
    "ggdalwarp -s_srs EPSG:4326 -t_srs EPSG:4326 -tr 0.5 0.5 -r near -te -180.0 -90.0 180.0 90.0 -te_srs EPSG:4326 -of GTiff \"C:/Users/LennyJenny/Documents/ArcGIS/world/UNFCCC/downloads/Global Soil Organic Carbon Density in kg Carbon_m2 to 1 meter depth/Global Soil Organic Carbon Density in kg Carbon/Data0/soilcarbon.ovr\" C:/Data/data_process/tiff/GlobalSoilOrganicCarbonDensityinkgCm_1mDepth.tif"
   ]
  }
 ],
 "metadata": {
  "kernelspec": {
   "display_name": "Python 3 (ipykernel)",
   "language": "python",
   "name": "python3"
  },
  "language_info": {
   "codemirror_mode": {
    "name": "ipython",
    "version": 3
   },
   "file_extension": ".py",
   "mimetype": "text/x-python",
   "name": "python",
   "nbconvert_exporter": "python",
   "pygments_lexer": "ipython3",
   "version": "3.8.10"
  }
 },
 "nbformat": 4,
 "nbformat_minor": 4
}
