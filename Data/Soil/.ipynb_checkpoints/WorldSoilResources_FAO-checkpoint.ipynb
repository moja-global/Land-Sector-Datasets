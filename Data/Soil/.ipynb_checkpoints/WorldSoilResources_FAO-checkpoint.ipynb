{
 "cells": [
  {
   "cell_type": "markdown",
   "metadata": {},
   "source": [
    "## Title: World Soil Resources Base Map FAO 2014\n",
    "\n",
    "### Description\n",
    "The World Resource Base Map of World Soil Resources is available at 1:25 000 000 scale. This is the most general digital map of the World's soils, now using the international standard soil classification WRB. Available as a graphic or digital coverage.\n",
    "Soil Type underpins the processes for estimating the changes in SOC as a result of changes to land use. Soil Type, when used in conjunction with climate data, is used for determining the IPCC Tier 1 SOC reference levels.\n",
    "\n",
    "### FLINT\n",
    "This dataset has been pre-processed/checked and is suitable for use in FLINT. Please adhere to individual dataset licence conditions and citations. Processed data can be accessed here: https://datasets.mojaglobal.workers.dev/\n",
    "\n",
    "### Original source\n",
    "Original spatial data sourced from: http://www.fao.org/soils-portal/data-hub/soil-maps-and-databases/other-global-soil-maps-and-databases/\n",
    "World Soil Resources Coverage in Geographic Projection (ARC/Info Export format) \"wsrll\"\n",
    "Reports: http://www.fao.org/soils-portal/data-hub/soil-classification/world-reference-base/en/\n",
    "\n",
    "### Licence\n",
    "FAO encourages the use, reproduction and dissemination of material in this information product. Except where otherwise indicated, material may be copied, downloaded and printed for private study, research and teaching purposes, or for use in non-commercial products or services, provided that appropriate acknowledgement of FAO as the source and copyright holder is given and that FAO’s endorsement of users’ views, products or services is not implied in any way.\n",
    "\n",
    "### Citation\n",
    "IUSS Working Group WRB. 2015. World Reference Base for Soil Resources 2014, update 2015. International soil classification system for naming soils and creating legends for soil maps. World Soil Resources Reports No. 106. FAO, Rome.\n",
    "\n",
    "### Format\n",
    "Global coverage, vector, .geojson\n",
    "Cordinate system EPSG: 4326 (WGS84)\n",
    "Size: 237 MB\n",
    "\n",
    "### Metadata\n",
    "http://www.fao.org/geonetwork/srv/en/main.home?uuid=2fb209d0-fd34-4e5e-a3d8-a13c241eb61b#\n",
    "tags: climate , FRA , forests , ecological zone , land cover\n",
    "\n",
    "### Notes\n",
    "Note the vector data is coarse resolution in some instances, with some detail in coastlines and some islands missing.\n",
    "\n",
    "### Processing\n",
    "Repair geometry, fix topologial error (remove overlaps), convert to geojson, EPSG:4326 (WGS84), remove/disable Z values. View code below - originally processed in ArcGIS but can be converted to open source QGIS or GDAL (or others)."
   ]
  },
  {
   "cell_type": "code",
   "execution_count": null,
   "metadata": {},
   "outputs": [],
   "source": [
    "# Import arcpy module\n",
    "import arcpy\n",
    "\n",
    "# Local variables:\n",
    "in_shp = r\"C:/Users/LennyJenny/Documents/ArcGIS/world/UNFCCC/downloads/test/wsrll.shp\"\n",
    "Output_Coordinate_System = \"GCS_WGS_1984\"\n",
    "output = \"C:/data/WorldSoilResources.geojson\"\n",
    "\n",
    "# output topological fix shapefile if topological error (optional)\n",
    "in_shp_fix = r\"C:/data/wsrll_fix.shp\"\n",
    "\n",
    "# Set environments\n",
    "arcpy.env.workspace = \"c:/data\"\n",
    "arcpy.env.outputCoordinateSystem = arcpy.SpatialReference(4326)\n",
    "arcpy.env.outputZFlag = \"Disabled\"\n",
    "\n",
    "# Process: Repair Geometry to remove self intersections and non-simple geometry\n",
    "arcpy.RepairGeometry_management(in_shp, \"DELETE_NULL\")\n",
    "\n",
    "# Process: Count Overlapping Features to determine topological error\n",
    "# Where count<2 = topological error which will require manual fix or batch clip overlapping areas\n",
    "countname = r\"C:/data/overlap_count.shp\"\n",
    "arcpy.analysis.CountOverlappingFeatures(in_shp, countname, min_overlap_count=2)\n",
    "\n",
    "# Process: Topoloogical fix: Find overlaps and clip from layer (non-manual, will produce gaps, this can be coded to not leave gaps later)\n",
    "arcpy.analysis.Intersect(in_shp, \"in_memory/intersectbits\")\n",
    "arcpy.analysis.Clip(in_shp, \"in_memory/intersectbits\", in_shp_fix)\n",
    "\n",
    "# Process: Features To JSON\n",
    "arcpy.FeaturesToJSON_conversion(input, output, \"NOT_FORMATTED\", \"NO_Z_VALUES\", \"NO_M_VALUES\", \"GEOJSON\")"
   ]
  },
  {
   "cell_type": "code",
   "execution_count": null,
   "metadata": {},
   "outputs": [],
   "source": []
  }
 ],
 "metadata": {
  "kernelspec": {
   "display_name": "Python 3",
   "language": "python",
   "name": "python3"
  },
  "language_info": {
   "codemirror_mode": {
    "name": "ipython",
    "version": 3
   },
   "file_extension": ".py",
   "mimetype": "text/x-python",
   "name": "python",
   "nbconvert_exporter": "python",
   "pygments_lexer": "ipython3",
   "version": "3.7.9"
  }
 },
 "nbformat": 4,
 "nbformat_minor": 4
}
