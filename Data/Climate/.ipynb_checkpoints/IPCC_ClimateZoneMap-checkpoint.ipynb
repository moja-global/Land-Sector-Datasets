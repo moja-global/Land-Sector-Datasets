{
 "cells": [
  {
   "cell_type": "markdown",
   "metadata": {},
   "source": [
    "## Title:  IPCC Climate Zone Map\n",
    "\n",
    "### Description\n",
    "The Climatic Zone layer is defined based on the classification of IPCC (IPCC, 2006). The zones are defined by a set of rules based on:<br>\n",
    "\n",
    "- annual mean daily temperature,\n",
    "- total annual precipitation,\n",
    "- total annual potential evapo-transpiration (PET) and\n",
    "- elevation.<br>\n",
    "\n",
    "The classification presented as Figure 3A.5.1 Classification scheme for default climate regions” (IPCC, 2006) could not be accessed in electronic form and generated from an independently developed set of base data layers. Climatic information on temperature and precipitation was provided by the 5 arc min. dataset Version 1.4 from the WorldClim project (Hijmans et al., 2005). PET was computed according to the temperature-based formula investigated by Oudin et al. (2005) and used by Kay & Davis (2008). The computation of the extraterrestrial radiation was based on Duffie & Beckman (1991) and Allen et al. (1994). The formulas were supplemented by the information provided by the “Solar Radiation Basis” Web-page of the University of Oregon: http://solardat.uoregon.edu/SolarRadiationBasics.html.\n",
    "\n",
    "### FLINT\n",
    "This dataset has been checked/pre-processed and is suitable for use in FLINT. Please adhere to individual dataset licence conditions and citations. Processed data can be accessed here: [Land Sector Datasets](https://datasets.mojaglobal.workers.dev/) https://datasets.mojaglobal.workers.dev/<br>\n",
    "\n",
    "### Format\n",
    "<b>Extent: </b>Global coverage<br>\n",
    "<b>Resolution:</b> Raster 0.05-degree resolution (this can be resampled to any resolution)<br>\n",
    "<b>File type:</b> geotiff (.tif) and geojson (.json)<br>\n",
    "<b>Cordinate system:</b> EPSG:4326 (WGS84)<br>\n",
    "<b>Year: </b>2006<br>\n",
    "<b>Size:</b> 24MB<br>\n",
    "\n",
    "### Original source\n",
    "Downloaded from: https://esdac.jrc.ec.europa.eu/projects/RenewableEnergy/ Accessed 20/12/2020.<br>\n",
    "Raster .rst 0.0833333333333333 degree pixels<br>\n",
    "\n",
    "### Licence\n",
    "Creative Commons Attribution 4.0 International License\n",
    "\n",
    "### Citation\n",
    "Intergovernmental Panel on Climate Change, (IPCC), (2006)., 2006 IPCC Guidelines for National Greenhouse Gas Inventories Volume 4: Agriculture, Forestry and Other Land Use. Available at: https://www.ipcc-nggip.iges.or.jp/public/2006gl/vol4.html\n",
    "\n",
    "### Metadata\n",
    "More information: https://esdac.jrc.ec.europa.eu/projects/RenewableEnergy/\n",
    "Value\tClass_name<br>\n",
    "1\tWarm Temperate Moist<br>\n",
    "2\tWarm Temperate Dry<br>\n",
    "3\tCool Temperate Moist<br>\n",
    "4\tCool Temperate Dry<br>\n",
    "5\tPolar Moist<br>\n",
    "6\tPolar Dry<br>\n",
    "7\tBoreal Moist<br>\n",
    "8\tBoreal Dry<br>\n",
    "9\tTropical Montane<br>\n",
    "\n",
    "### Notes\n",
    "Both raster and vector versions provided.\n",
    "\n",
    "\n",
    "### Processing\n",
    "Dataset converted to tiff, projection WGS84, and converted to vector (note Value and Class_name table above to matach codes. Code is provided below."
   ]
  },
  {
   "cell_type": "code",
   "execution_count": null,
   "metadata": {},
   "outputs": [],
   "source": [
    "# Convert from .rst to tif and apply WGS84 and resample to 0.005\n",
    "gdalwarp -t_srs EPSG:4326 -dstnodata 255.0 -tr 0.05 0.05 -r near -te -180.0 -90.0 180.0 90.0 -te_srs EPSG:4326 -of GTiff \"C:/Data/CLIMATE_ZONE.rst\" \"C:/Data/IPCC_ClimateZoneMap.tif\"\n",
    "\n",
    "# Convert to polygon\n",
    "python3 -m gdal_polygonize C:/Data/tiff/IPCC_ClimateZoneMap.tif C:/Data/tiff/IPCC_ClimateZoneMap.geojson -b 1 -f \"GeoJSON\" IPCC_ClimateZoneMap CLASS_NAME        \n",
    "\n",
    "# Check Topology - Run fix geometries in QGIS"
   ]
  }
 ],
 "metadata": {
  "kernelspec": {
   "display_name": "Python 3",
   "language": "python",
   "name": "python3"
  },
  "language_info": {
   "codemirror_mode": {
    "name": "ipython",
    "version": 3
   },
   "file_extension": ".py",
   "mimetype": "text/x-python",
   "name": "python",
   "nbconvert_exporter": "python",
   "pygments_lexer": "ipython3",
   "version": "3.8.5"
  }
 },
 "nbformat": 4,
 "nbformat_minor": 4
}
