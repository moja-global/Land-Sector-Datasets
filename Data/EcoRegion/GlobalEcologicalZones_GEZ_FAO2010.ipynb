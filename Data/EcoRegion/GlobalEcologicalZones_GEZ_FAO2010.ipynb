{
 "cells": [
  {
   "cell_type": "markdown",
   "metadata": {},
   "source": [
    "## Title: Global Ecological Zones (second edition) FAO 2010\n",
    "### Description\n",
    "The Global Forest Resources Assessment (FRA) of the Food and Agriculture Organization of the United Nations (FAO) presents global and regional forest data by global ecological zone (GEZ). The GEZ spatial dataset used by FAO has developed over the years from covering only the tropical areas (1990) to the globe (2000). Due to the developments in remote sensing and the compiling of many spatial products relating to climate and land cover between 2000 and 2010, an update to the map was commissioned and resulted in the available GEZ 2010 product.\n",
    "\n",
    "Main uses of the map include: a) reporting purposes, to provide baseline forest statistics by ecological zone; b) analysis and modelling purposes, i.e. assessment of forest-based biological diversity, both at ecosystem and species level, and biomass modelling.\n",
    "\n",
    "### FLINT\n",
    "This dataset has been pre-processed/checked and is suitable for use in FLINT. Please adhere to individual dataset licence conditions and citations. Processed data can be accessed here: https://datasets.mojaglobal.workers.dev/\n",
    "\n",
    "### Original source\n",
    "Direct Download: http://www.fao.org/geonetwork/srv/en/resources.get?id=47105&fname=gez2010.zip&access=private\n",
    "Access: http://www.fao.org/geonetwork/srv/en/main.home?uuid=2fb209d0-fd34-4e5e-a3d8-a13c241eb61b#\n",
    "Report: http://www.fao.org/3/ap861e/ap861e00.pdf\n",
    "\n",
    "### Licence\n",
    "Copyright: Exclusive right to the publication, production, or sale of the rights to a literary, dramatic, musical, or artistic work, or to the use of a commercial print or label, granted by law for a specified period of time to an author, composer, artist, distributor\n",
    "\n",
    "Use: Non-Commercial use\n",
    "\n",
    "Licence: All rights reserved. FAO encourages the reproduction and dissemination of material in this information product. Non-commercial uses will be authorized free of charge, upon request. Reproduction for resale or other commercial purposes, including educational purposes, may incur fees. Applications for permission to reproduce or disseminate FAO copyright materials, and allqueries concerning rights and licences, should be addressed by e-mail to copyright@fao.org or to the Chief, Publishing Policy and Support Branch, Office of Knowledge Exchange, Research and Extension, FAO, Viale delle Terme di Caracalla, 00153 Rome, Italy.\n",
    "\n",
    "### Citation\n",
    "FOOD AND AGRICULTURE ORGANIZATION OF THE UNITED NATIONS (2012). Global ecological zones for fao forest reporting: 2010 Update. Forest Resources Assessment Working Paper 179 http://www.fao.org/3/ap861e/ap861e00.pdf\n",
    "\n",
    "### Format\n",
    "Global coverage, vector, .geojson\n",
    "Cordinate system EPSG: 4326 (WGS84)\n",
    "Size: 237 MB\n",
    "\n",
    "### Metadata\n",
    "http://www.fao.org/geonetwork/srv/en/main.home?uuid=2fb209d0-fd34-4e5e-a3d8-a13c241eb61b#\n",
    "tags: climate , FRA , forests , ecological zone , land cover\n",
    "\n",
    "### Notes\n",
    "GEZ mapping is coarse grained in some instances, with coastline and islands often cut from mapping.\n",
    "\n",
    "### Processing\n",
    "Repair geometry, fix topologial error (remove overlaps), convert to geojson, EPSG:4326 (WGS84), remove/disable Z values. View code below - originally processed in ArcGIS but can be converted to open source QGIS or GDAL (or others)."
   ]
  },
  {
   "cell_type": "code",
   "execution_count": null,
   "metadata": {},
   "outputs": [],
   "source": [
    "# Import arcpy module\n",
    "import arcpy\n",
    "\n",
    "# Local variables:\n",
    "in_shp = r\"C:/Users/LennyJenny/Documents/ArcGIS/world/UNFCCC/downloads/test/gez_2010_wgs84.shp\"\n",
    "Output_Coordinate_System = \"GCS_WGS_1984\"\n",
    "output = \"C:/data/gez_2010.geojson\"\n",
    "\n",
    "# output topological fix shapefile if topological error (optional)\n",
    "in_shp_fix = r\"C:/data/gez_2010_wgs84_fix.shp\"\n",
    "\n",
    "# Set output environments\n",
    "arcpy.env.outputCoordinateSystem = Output_Coordinate_System\n",
    "arcpy.env.outputZFlag = \"Disabled\"\n",
    "\n",
    "# Process: Repair Geometry to remove self intersections and non-simple geometry\n",
    "arcpy.RepairGeometry_management(in_shp, \"DELETE_NULL\")\n",
    "\n",
    "# Process: Count Overlapping Features to determine topological error\n",
    "# Where count<2 = topological error which will require manual fix or batch clip overlapping areas\n",
    "countname = r\"C:/data/overlap_count.shp\"\n",
    "arcpy.analysis.CountOverlappingFeatures(in_shp, countname, min_overlap_count=2)\n",
    "\n",
    "# Process: Topoloogical fix: Find overlaps and clip from layer (non-manual, will produce gaps, this can be coded to not leave gaps later)\n",
    "arcpy.analysis.Intersect(in_shp, \"in_memory/intersectbits\")\n",
    "arcpy.analysis.Clip(in_shp, \"in_memory/intersectbits\", in_shp_fix)\n",
    "\n",
    "# Process: Features To JSON\n",
    "arcpy.FeaturesToJSON_conversion(input, output, \"NOT_FORMATTED\", \"NO_Z_VALUES\", \"NO_M_VALUES\", \"GEOJSON\")"
   ]
  },
  {
   "cell_type": "code",
   "execution_count": null,
   "metadata": {},
   "outputs": [],
   "source": []
  }
 ],
 "metadata": {
  "kernelspec": {
   "display_name": "Python 3",
   "language": "python",
   "name": "python3"
  },
  "language_info": {
   "codemirror_mode": {
    "name": "ipython",
    "version": 3
   },
   "file_extension": ".py",
   "mimetype": "text/x-python",
   "name": "python",
   "nbconvert_exporter": "python",
   "pygments_lexer": "ipython3",
   "version": "3.8.5"
  }
 },
 "nbformat": 4,
 "nbformat_minor": 4
}
